{
  "nbformat": 4,
  "nbformat_minor": 0,
  "metadata": {
    "colab": {
      "provenance": [],
      "collapsed_sections": [],
      "include_colab_link": true
    },
    "kernelspec": {
      "name": "python3",
      "display_name": "Python 3"
    },
    "language_info": {
      "name": "python"
    },
    "accelerator": "GPU",
    "gpuClass": "standard"
  },
  "cells": [
    {
      "cell_type": "markdown",
      "metadata": {
        "id": "view-in-github",
        "colab_type": "text"
      },
      "source": [
        "<a href=\"https://colab.research.google.com/github/AhlemKaabi/yolov4-training-custom-dataset/blob/main/yolov4_training_custom_dataset.ipynb\" target=\"_parent\"><img src=\"https://colab.research.google.com/assets/colab-badge.svg\" alt=\"Open In Colab\"/></a>"
      ]
    },
    {
      "cell_type": "code",
      "execution_count": 1,
      "metadata": {
        "colab": {
          "base_uri": "https://localhost:8080/"
        },
        "id": "xZX7U0pVBCCg",
        "outputId": "927923f2-4de9-4da5-9720-800ad58580c4"
      },
      "outputs": [
        {
          "output_type": "stream",
          "name": "stdout",
          "text": [
            "/\n",
            "Mounted at /content/gdrive\n"
          ]
        }
      ],
      "source": [
        "#mount drive\n",
        "%cd ..\n",
        "from google.colab import drive\n",
        "drive.mount('/content/gdrive')"
      ]
    },
    {
      "cell_type": "code",
      "source": [
        "# this creates a symbolic link so that now the path \n",
        "!ln -s /content/gdrive/Shareddrives/Migration\\ 2596 /kaabidrive"
      ],
      "metadata": {
        "id": "VX3mZXnKBHRQ"
      },
      "execution_count": null,
      "outputs": []
    },
    {
      "cell_type": "code",
      "source": [
        "# list the contents of /mydrive\n",
        "!ls kaabidrive/"
      ],
      "metadata": {
        "id": "H_IOcc-LBINb"
      },
      "execution_count": null,
      "outputs": []
    },
    {
      "cell_type": "code",
      "source": [
        "#Navigate to /ahlemdrive/yolov4\n",
        "%cd /kaabidrive/yolov4"
      ],
      "metadata": {
        "colab": {
          "base_uri": "https://localhost:8080/"
        },
        "id": "7CreJrUbBK98",
        "outputId": "a5b41260-b2b1-4857-aaa1-eb4babadeae7"
      },
      "execution_count": null,
      "outputs": [
        {
          "output_type": "stream",
          "name": "stdout",
          "text": [
            "/content/gdrive/MyDrive/yolov4\n"
          ]
        }
      ]
    },
    {
      "cell_type": "code",
      "source": [
        "!git clone https://github.com/AlexeyAB/darknet"
      ],
      "metadata": {
        "colab": {
          "base_uri": "https://localhost:8080/"
        },
        "id": "Zui-URMWBMoL",
        "outputId": "0e873fa7-82c5-45fb-a06c-82047db9a5ab"
      },
      "execution_count": null,
      "outputs": [
        {
          "output_type": "stream",
          "name": "stdout",
          "text": [
            "Cloning into 'darknet'...\n",
            "remote: Enumerating objects: 15490, done.\u001b[K\n",
            "remote: Counting objects: 100% (30/30), done.\u001b[K\n",
            "remote: Compressing objects: 100% (19/19), done.\u001b[K\n",
            "remote: Total 15490 (delta 10), reused 21 (delta 9), pack-reused 15460\u001b[K\n",
            "Receiving objects: 100% (15490/15490), 14.08 MiB | 7.82 MiB/s, done.\n",
            "Resolving deltas: 100% (10398/10398), done.\n",
            "Checking out files: 100% (2057/2057), done.\n"
          ]
        }
      ]
    },
    {
      "cell_type": "code",
      "source": [
        "# change makefile to have GPU and OPENCV enabled\n",
        "# also set CUDNN, CUDNN_HALF and LIBSO to 1\n",
        "\n",
        "%cd darknet/\n",
        "!sed -i 's/OPENCV=0/OPENCV=1/' Makefile\n",
        "!sed -i 's/GPU=0/GPU=1/' Makefile\n",
        "!sed -i 's/CUDNN=0/CUDNN=1/' Makefile\n",
        "!sed -i 's/CUDNN_HALF=0/CUDNN_HALF=1/' Makefile\n",
        "!sed -i 's/LIBSO=0/LIBSO=1/' Makefile"
      ],
      "metadata": {
        "colab": {
          "base_uri": "https://localhost:8080/"
        },
        "id": "1pUOuZvxBRxX",
        "outputId": "cfc7f530-65f9-4f95-83f6-549ac1d2b598"
      },
      "execution_count": null,
      "outputs": [
        {
          "output_type": "stream",
          "name": "stdout",
          "text": [
            "/content/gdrive/MyDrive/yolov4/darknet\n"
          ]
        }
      ]
    },
    {
      "cell_type": "code",
      "source": [
        "# build darknet \n",
        "!make"
      ],
      "metadata": {
        "id": "lziU_5MABS1q"
      },
      "execution_count": null,
      "outputs": []
    },
    {
      "cell_type": "code",
      "source": [
        "# Clean the data and cfg folders first except the labels folder in data whichis \n",
        "# is required\n",
        "\n",
        "%cd data/\n",
        "!find -maxdepth 1 -type f -exec rm -rf {} \\;\n",
        "%cd ..\n",
        "\n",
        "%rm -rf cfg/\n",
        "%mkdir cfg"
      ],
      "metadata": {
        "id": "TwIRTt8KBUVQ"
      },
      "execution_count": null,
      "outputs": []
    },
    {
      "cell_type": "code",
      "source": [
        "# Unzip the obj.zip dataset and its contents so that they are now in \n",
        "# /darknet/data/ folder \n",
        "\n",
        "!unzip /kaabidrive/yolov4/obj.zip -d data/"
      ],
      "metadata": {
        "id": "Rb5dJ0NUBVox"
      },
      "execution_count": null,
      "outputs": []
    },
    {
      "cell_type": "code",
      "source": [
        "# Copy the yolov4-custom.cfg file so that it is now in /darknet/cfg/ folder \n",
        "\n",
        "!cp /ahlemdrive/yolov4/yolov4-custom.cfg cfg\n",
        "\n",
        "# verify if your custom file is in cfg folder\n",
        "!ls cfg/"
      ],
      "metadata": {
        "colab": {
          "base_uri": "https://localhost:8080/"
        },
        "id": "eXi_sZuCB-wE",
        "outputId": "4533fc4e-8a27-45d5-de9f-a8fa78051b2f"
      },
      "execution_count": null,
      "outputs": [
        {
          "output_type": "stream",
          "name": "stdout",
          "text": [
            "yolov4-custom.cfg\n"
          ]
        }
      ]
    },
    {
      "cell_type": "code",
      "source": [
        "# Copy the obj.names and obj.data files from your drive so that they are now\n",
        "# in /darknet/data/ folder \n",
        "\n",
        "!cp /ahlemdrive/yolov4/obj.names data\n",
        "!cp /ahlemdrive/yolov4/obj.data  data\n",
        "\n",
        "# verify if the above files are in data folder\n",
        "!ls data/"
      ],
      "metadata": {
        "colab": {
          "base_uri": "https://localhost:8080/"
        },
        "id": "qoS2XHyoCB52",
        "outputId": "99f6e439-9f3a-4b1e-ea78-4bc109fa8b71"
      },
      "execution_count": null,
      "outputs": [
        {
          "output_type": "stream",
          "name": "stdout",
          "text": [
            "dataset_obj  labels  obj.data  obj.names\n"
          ]
        }
      ]
    },
    {
      "cell_type": "code",
      "source": [
        "# create  test.txt & train.txt that contains pathes to 10% & 90% respectivelly\n",
        "# of the total images\n",
        "# list the contents of data folder to check if the train.txt and test.txt \n",
        "# files have been created \n",
        "!ls data/"
      ],
      "metadata": {
        "colab": {
          "base_uri": "https://localhost:8080/"
        },
        "id": "qjvh6AMOCGp8",
        "outputId": "688f1e77-c925-44e0-c10c-89e7a364eaf9"
      },
      "execution_count": null,
      "outputs": [
        {
          "output_type": "stream",
          "name": "stdout",
          "text": [
            "/content/gdrive/MyDrive/yolov4/darknet\n",
            "labels\tobj  obj.data  obj.names  old-dataset-obj  test.txt  train.txt\n"
          ]
        }
      ]
    },
    {
      "cell_type": "code",
      "source": [
        "# to start the training we will start with yolov4.conv.137 file weights then we \n",
        "# will save new weights untel the training is finished\n",
        "!wget https://github.com/AlexeyAB/darknet/releases/download/darknet_yolo_v3_optimal/yolov4.conv.137"
      ],
      "metadata": {
        "id": "t9XzLYqBDDTe"
      },
      "execution_count": null,
      "outputs": []
    },
    {
      "cell_type": "markdown",
      "source": [
        "# Training"
      ],
      "metadata": {
        "id": "zcEC3HAhvWMT"
      }
    },
    {
      "cell_type": "code",
      "source": [
        "# train your custom detector!\n",
        "\n",
        "# !./darknet detector train data/obj.data cfg/yolov4-custom.cfg yolov4.conv.137 -dont_show -map\n",
        "\n",
        "!./darknet detector train data/obj.data cfg/yolov4-custom.cfg /kaabidrive/yolov4/weights/4/yolov4-custom_last.weights -dont_show -map"
      ],
      "metadata": {
        "id": "dINC2gMJCIAn"
      },
      "execution_count": null,
      "outputs": []
    },
    {
      "cell_type": "markdown",
      "source": [
        "# Test"
      ],
      "metadata": {
        "id": "yL9LGFpucaF3"
      }
    },
    {
      "cell_type": "code",
      "source": [
        "#set your custom cfg to test mode \n",
        "%cd /cfg\n",
        "!sed -i 's/batch=64/batch=1/' yolov4-custom.cfg\n",
        "!sed -i 's/subdivisions=1/subdivisions=16/' yolov4-custom.cfg\n"
      ],
      "metadata": {
        "id": "a4Gm7JsA7iy0"
      },
      "execution_count": null,
      "outputs": []
    },
    {
      "cell_type": "code",
      "source": [
        "# define helper function imShow\n",
        "def imShow(path):\n",
        "  import cv2\n",
        "  import matplotlib.pyplot as plt\n",
        "  %matplotlib inline\n",
        "\n",
        "  image = cv2.imread(path)\n",
        "  height, width = image.shape[:2]\n",
        "  resized_image = cv2.resize(image,(3*width, 3*height), interpolation = cv2.INTER_CUBIC)\n",
        "\n",
        "  fig = plt.gcf()\n",
        "  fig.set_size_inches(18, 10)\n",
        "  plt.axis(\"off\")\n",
        "  plt.imshow(cv2.cvtColor(resized_image, cv2.COLOR_BGR2RGB))\n",
        "  plt.show()"
      ],
      "metadata": {
        "id": "vaPa1IMs9hGg"
      },
      "execution_count": null,
      "outputs": []
    },
    {
      "cell_type": "code",
      "source": [
        "# run your custom detector with this command (upload an image to your google drive to test, the thresh flag sets the minimum accuracy required for object detection)\n",
        "\n",
        "!./darknet detector test data/obj.data cfg/yolov4-custom.cfg /kaabidrive/yolov4/weights/5/yolov4-custom_final.weights /kaabidrive/yolov4_new/darknet/data/obj/39.jpg -thresh 0.3 -dont_show\n",
        "imShow('predictions.jpg')"
      ],
      "metadata": {
        "id": "tAOACea7886N"
      },
      "execution_count": null,
      "outputs": []
    },
    {
      "cell_type": "code",
      "source": [
        "# test on video\n",
        "!./darknet detector demo data/obj.data cfg/yolov4-custom.cfg  /kaabidrive/yolov4/weights/5/yolov4-custom_final.weights -dont_show /kaabidrive/yolov4_new/Aircraft_turnaround.mp4 -i 0 -out_filename Aircraft_turnaround-with-1st-ds.avi"
      ],
      "metadata": {
        "id": "s1rF0u3z9_pJ"
      },
      "execution_count": null,
      "outputs": []
    }
  ]
}